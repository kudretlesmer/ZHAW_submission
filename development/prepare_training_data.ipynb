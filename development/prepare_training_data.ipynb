{
 "cells": [
  {
   "cell_type": "code",
   "execution_count": 1,
   "metadata": {},
   "outputs": [],
   "source": [
    "import pandas as pd\n",
    "import numpy as np\n",
    "import matplotlib.pyplot as plt\n",
    "import os"
   ]
  },
  {
   "cell_type": "code",
   "execution_count": 2,
   "metadata": {},
   "outputs": [],
   "source": [
    "WINDOW_LENGTH = 100\n",
    "training_data = []\n",
    "anomaly_data = []\n",
    "\n",
    "for simulation in os.listdir('simulations/'):\n",
    "    if '.DS' not in simulation:\n",
    "        df = pd.read_parquet(f'simulations/{simulation}')\n",
    "        for id in df['ID'].unique():\n",
    "            df_id = df[df['ID'] == id].reset_index(drop = True)\n",
    "            number_of_windows = (df_id.shape[0]-WINDOW_LENGTH)\n",
    "            for window_id in range(number_of_windows):\n",
    "                window = df_id.iloc[window_id:window_id +WINDOW_LENGTH,:]\n",
    "                window = window[['observed_latitude','observed_longitude']].values\n",
    "                #window-= window.mean(0)\n",
    "                #window/= window.std(0)\n",
    "\n",
    "                if 'anomaly' in simulation:\n",
    "                    anomaly_data.append(window)\n",
    "                else:\n",
    "                    training_data.append(window)\n",
    "        \n"
   ]
  },
  {
   "cell_type": "code",
   "execution_count": 3,
   "metadata": {},
   "outputs": [],
   "source": [
    "X_train = np.array(training_data)\n",
    "X_anomaly = np.array(anomaly_data)"
   ]
  },
  {
   "cell_type": "code",
   "execution_count": 7,
   "metadata": {},
   "outputs": [],
   "source": [
    "np.save('train_data.npy', X_train)\n",
    "np.save('anomaly_data.npy', X_anomaly)"
   ]
  }
 ],
 "metadata": {
  "kernelspec": {
   "display_name": "data_science",
   "language": "python",
   "name": "data_science"
  },
  "language_info": {
   "codemirror_mode": {
    "name": "ipython",
    "version": 3
   },
   "file_extension": ".py",
   "mimetype": "text/x-python",
   "name": "python",
   "nbconvert_exporter": "python",
   "pygments_lexer": "ipython3",
   "version": "3.12.3"
  }
 },
 "nbformat": 4,
 "nbformat_minor": 2
}
